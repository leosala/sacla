{
 "cells": [
  {
   "cell_type": "markdown",
   "metadata": {},
   "source": [
    "## This notebook presents a very quick overview of the data conversion and analysis that was developed and used during the beamtime in SACLA in May 2016.\n",
    "\n",
    "Don’t hesitate to contact me if you have questions ([vincent.esposito@psi.ch](mailto:vincent.esposito@psi.ch))"
   ]
  },
  {
   "cell_type": "markdown",
   "metadata": {},
   "source": [
    "### Main data analysis pipeline"
   ]
  },
  {
   "cell_type": "code",
   "execution_count": null,
   "metadata": {
    "collapsed": true
   },
   "outputs": [],
   "source": [
    "# Assumes a location of the notebook in <dir_path>/sacla/notebooks and photon_tools module is in the same <dir_path>\n",
    "import os\n",
    "import sys\n",
    "\n",
    "dir_path = os.getcwd() + '/../../'\n",
    "\n",
    "sys.path.append(dir_path + 'sacla')\n",
    "sys.path.append(dir_path + 'photon_tools')\n",
    "\n",
    "import matplotlib.pyplot as plt\n",
    "%matplotlib inline\n",
    "import numpy as np\n",
    "import cPickle as pickle\n",
    "from utilities import postproc_functions as fsacla\n",
    "from photon_tools.images_processor import ImagesProcessor\n",
    "import utilities as sacla_utils"
   ]
  },
  {
   "cell_type": "code",
   "execution_count": null,
   "metadata": {
    "collapsed": false
   },
   "outputs": [],
   "source": [
    "# Define SACLA quantities - they can change from beamtime to beamtime\n",
    "daq_labels = {}\n",
    "daq_labels[\"I0_down\"] = \"event_info/PD_I0/lower_in_volt\"\n",
    "daq_labels[\"I0_up\"] = \"event_info/PD_I0/upper_in_volt\"\n",
    "# daq_labels[\"I0_left\"] = \"event_info/PD_I0/left_in_volt\"\n",
    "# daq_labels[\"I0_right\"] = \"event_info/PD_I0/right_in_volt\"\n",
    "daq_labels[\"I0_down_gainC\"] = \"event_info/PD_I0/lower_gainC\"\n",
    "daq_labels[\"I0_up_gainC\"] = \"event_info/PD_I0/upper_gainC\"\n",
    "# daq_labels[\"I0_left\"] = \"event_info/PD_I0/left_in_volt\"\n",
    "# daq_labels[\"I0_right\"] = \"event_info/PD_I0/right_in_volt\"\n",
    "# daq_labels[\"TFY\"] = \"event_info/bl_3/eh_4/photodiode/photodiode_sample_PD_user_9_in_volt\"\n",
    "# daq_labels[\"chan_cut_mono_crysta1_theta\"] = \"event_info/monochrom/crystal1_theta\"\n",
    "# daq_labels[\"chan_cut_mono_crysta2_theta\"] = \"event_info/monochrom/crystal2_theta\"\n",
    "daq_labels[\"delay\"] = \"event_info/OPT/delay\"\n",
    "daq_labels[\"delay_tt_stage\"] = \"event_info/TimingTool/delay\"\n",
    "daq_labels[\"ND\"] = \"event_info/OPT/ND\"\n",
    "daq_labels[\"2theta\"] = \"event_info/diffractometer/2theta\"\n",
    "daq_labels[\"theta\"] = \"event_info/diffractometer/theta\"\n",
    "daq_labels[\"chi\"] = \"event_info/diffractometer/chi\"\n",
    "daq_labels[\"phi\"] = \"event_info/diffractometer/phi\"\n",
    "daq_labels[\"mirror_tilt\"] = \"event_info/OPT/mirror_tilt\"\n",
    "daq_labels[\"mirror_rotation\"] = \"event_info/OPT/mirror_rotation\"\n",
    "# daq_labels[\"photon_sase_energy\"] = \"event_info/bl_3/oh_2/photon_energy_in_eV\"\n",
    "daq_labels[\"x_status\"] = \"event_info/bl_3/eh_1/xfel_pulse_selector_status\"\n",
    "# daq_labels[\"x_shut\"] = \"event_info/bl_3/shutter_1_open_valid_status\"\n",
    "daq_labels[\"laser_status\"] = \"event_info/bl_3/lh_1/laser_pulse_selector_status\"\n",
    "daq_labels[\"tags\"] = \"event_info/tag_number_list\"\n",
    "daq_labels[\"gonio_z\"] = \"event_info/goniometer/g_z\""
   ]
  },
  {
   "cell_type": "markdown",
   "metadata": {},
   "source": [
    "Define test data runs to be processed"
   ]
  },
  {
   "cell_type": "code",
   "execution_count": null,
   "metadata": {
    "collapsed": false
   },
   "outputs": [],
   "source": [
    "runs = [439064, 439065]  # delay\n",
    "# runs = [439020]  # mirror_tilt\n",
    "# runs = [439015]  # phi\n",
    "\n",
    "# runs = np.append(np.arange(439064, 439067, 1), np.arange(439069, 439074, 1))  # bismuth timing\n",
    "# runs = [439109, 439110, 439111, 439112, 439113]\n",
    "# runs = [439114, 439115, 439116, 439117, 439118]\n",
    "# runs = [439121, 439122, 439123, 439124, 439125]\n",
    "\n",
    "# runs = [439215, 439216, 239217]\n",
    "# runs = [439189]\n",
    "# runs = np.arange(439210, 439219, 1) # coarse time scan\n",
    "# runs = np.arange(439197, 439207, 1) # fine time scan\n",
    "\n",
    "# flu=-16000:\n",
    "# runs = [439236, 439237, 439238]                  #time scan 1ns on SL\n",
    "# runs = [439239, 439244]                          #phi scan SL  1ns\n",
    "# runs = [439239, 439243]                          #phi scan SL coarse 200ps\n",
    "# runs = [439245]                                  #phi scan Bragg 1ns\n",
    "# runs = [439246]                                  #phi scan Bragg 200ps\n",
    "# runs = [439250]                                  #phi Bragg 200ps\n",
    "# runs = [439251]                                  #phi Bragg 150ps\n",
    "# runs = [439252]                                  #phi Bragg 500ps\n",
    "# runs = [439253]                                  #phi Bragg 50ps\n",
    "# runs = [439254]                                  #phi Bragg 10ps\n",
    "# runs = [439255, 439258]                          #phi Bragg -100ps\n",
    "# runs = [439256]                                  #phi Bragg 1nsps\n",
    "# runs = [439257]                                  #phi Bragg 500ps\n",
    "\n",
    "#flu=-21000:\n",
    "# runs = [439248]                                  #phi scan SL 200ps\n",
    "# runs = [439249]                                  #phi SL 1ns\n",
    "# runs = [439259]                                  #time scan SL phi 2260\n",
    "# runs = [439260, 439261, 439262]                  #time scan SL phi 2250\n",
    "\n",
    "#flu=-23000:\n",
    "# runs = [439263, 439264, 439265, 439269]           #time scan SL\n",
    "# runs = [439266]                                   #phi scan SL 1ns\n",
    "# runs = [439267]                                   #phi scan SL 200ps\n",
    "# runs = [439268]                                   #phi scan Bragg 200ps\n",
    "\n",
    "# runs = [439269]"
   ]
  },
  {
   "cell_type": "markdown",
   "metadata": {},
   "source": [
    "Choose whether imgAna, loadData and timing tool analysis has to be performed"
   ]
  },
  {
   "cell_type": "code",
   "execution_count": null,
   "metadata": {
    "collapsed": true
   },
   "outputs": [],
   "source": [
    "motor = 'delay'\n",
    "\n",
    "imgAna = 1\n",
    "loadData = 1\n",
    "useTT = 1\n",
    "\n",
    "fig_num = 132\n",
    "\n",
    "n = -1\n",
    "\n",
    "# data directories and names\n",
    "DIR = \"/home/usov_i/SACLA Dec2015/python_scripts2016/data/\"\n",
    "CSVDIR = \"/home/usov_i/SACLA Dec2015/python_scripts2016/data/\"\n",
    "saveDir = \"/home/usov_i/SACLA Dec2015/python_scripts2016/analyzed_runs/\"\n",
    "img_save_dir = \"/home/usov_i/SACLA Dec2015/python_scripts2016/analyzed_runs/imgAna/\""
   ]
  },
  {
   "cell_type": "markdown",
   "metadata": {},
   "source": [
    "Prepare an ImagesProcessor instance"
   ]
  },
  {
   "cell_type": "code",
   "execution_count": null,
   "metadata": {
    "collapsed": false
   },
   "outputs": [],
   "source": [
    "# INPUT PARAMETERS\n",
    "thr = 50  # pixel's threshold value\n",
    "roi = [[560, 595], [285, 310]]  # SL [[xmin xmax], [ymin ymax]]\n",
    "#  roi = [[420, 470], [190, 230]]  # Bragg Peak [[xmin xmax], [ymin ymax]]\n",
    "#  bkgRoi = np.array(roi) #+ np.array([[-40, 40], [-40, 40]])\n",
    "bkgRoi = np.array(roi)\n",
    "\n",
    "# create ImagesProcessor object\n",
    "ip = ImagesProcessor(facility=\"SACLA\")\n",
    "\n",
    "# if you want a flat dict as a result\n",
    "ip.flatten_results = True\n",
    "\n",
    "# PREPROCESS FUNCTIONS (bkg sub, masks, ...)\n",
    "# (comment out for loading a background image)\n",
    "dark = np.load('/home/usov_i/SACLA Dec2015/python_scripts2016/analysis/dark_439011and02comb.npy')\n",
    "ip.add_preprocess(\"subtract_correction\", args={\"sub_image\": dark})\n",
    "ip.add_preprocess(\"set_thr\", args={\"thr_low\": thr})\n",
    "\n",
    "# ANALYSIS FUNCTIONS\n",
    "ip.add_analysis(\"get_mean_std\")  # , args={'thr_low': thr})\n",
    "bins = np.arange(-50, 600, 2)\n",
    "ip.add_analysis(\"get_histo_counts\", args={'bins': bins, 'roi': roi})\n",
    "ip.add_analysis(\"roi_bkgRoi\", args={'roi': roi, 'bkg_roi': bkgRoi})"
   ]
  },
  {
   "cell_type": "code",
   "execution_count": null,
   "metadata": {
    "collapsed": false
   },
   "outputs": [],
   "source": [
    "if 'df_total' in locals():\n",
    "    del df_total\n",
    "    \n",
    "for run in runs:\n",
    "    rname = str(run)\n",
    "    fname = DIR + rname + \".h5\"\n",
    "    print('\\nAnalyzing run ' + rname + '\\n')\n",
    "    \"\"\" \n",
    "    Analyze images and integrate roi and bkgRoi. Can take a lot of time \n",
    "    The results are saved in a pickle file in the folder analyzed_runs/imgAna.\n",
    "    \"\"\"\n",
    "    if imgAna:\n",
    "        dataset_name = \"/run_\" + rname + \"/detector_2d_1\"\n",
    "\n",
    "        # run the analysis\n",
    "        ip.set_dataset(dataset_name, remove_preprocess=False)\n",
    "        results = ip.analyze_images(fname, n=n)\n",
    "\n",
    "        # plot results\n",
    "        imgs = results[\"images_mean\"]\n",
    "        plt.figure(figsize=(8, 8))\n",
    "        plt.subplot2grid((2, 2), (0, 0), rowspan=2)\n",
    "        plt.imshow(imgs)\n",
    "        #     plt.imshow(imgs[bkgRoi[0][0]:bkgRoi[0][1], bkgRoi[1][0]:bkgRoi[1][1]], aspect=0.5,\n",
    "        #                extent=(bkgRoi[1][0], bkgRoi[1][1], bkgRoi[0][0], bkgRoi[0][1]), interpolation=\"none\")\n",
    "        plt.subplot2grid((2, 2), (0, 1))\n",
    "        plt.imshow(imgs[roi[0][0]:roi[0][1], roi[1][0]:roi[1][1]], aspect=0.5,\n",
    "                   extent=(roi[1][0], roi[1][1], roi[0][0], roi[0][1]), interpolation=\"none\")\n",
    "        plt.title('ROI')\n",
    "\n",
    "        plt.subplot2grid((2, 2), (1, 1))\n",
    "        #    plt.figure(figsize=(7, 7))\n",
    "        plt.bar(bins[:-1], results[\"histo_counts\"], log=True, width=5)\n",
    "        plt.show()\n",
    "\n",
    "        # save data as a pickle file\n",
    "        output = open(img_save_dir + rname + '_v2' + \".p\", \"wb\")\n",
    "        pickle.dump(results, output)\n",
    "        output.close()\n",
    "    \n",
    "    \"\"\" \n",
    "    Load the data from the hdf5 file and append the roi and bkgRoi intensities calculated above\n",
    "    The results are saved in a pickle file in the folder analyzed_runs.\n",
    "    \"\"\"\n",
    "    if loadData:\n",
    "        df, fnames = sacla_utils.analysis.get_data_daq(fname, daq_labels, sacla_utils.beamtime_converter_201605XX)\n",
    "\n",
    "        imgAnaName = img_save_dir + rname + \"_v2\" + \".p\"\n",
    "        imgAna = pickle.load(open(imgAnaName, \"rb\"))\n",
    "\n",
    "        df[\"intensity\"] = imgAna[\"intensity\"]\n",
    "        df[\"bkg\"] = imgAna[\"bkg\"]\n",
    "\n",
    "        # filter on I0. Good values given by beamline scientist in SACLA: 0.005 < I0 < 0.9\n",
    "        df_orig = df\n",
    "        df = df[df.I0 < 0.9]\n",
    "        df = df[df.I0 > 0.005]\n",
    "        ratio = float(len(df)) / len(df_orig)\n",
    "        print(\"\\n I0 filter: \" + str(ratio))\n",
    "\n",
    "        tt_stage_offset = 30000  # just to make number more readable\n",
    "        if useTT == 1:\n",
    "            df = fsacla.getTTfromCSV(df, CSVDIR + rname + \".csv\", \"derivative\", tt_stage_offset)\n",
    "\n",
    "        df.to_pickle(saveDir + rname + \"_may2016\" + \".p\")\n",
    "    \n",
    "    \"\"\" Appends all dataframes together in a big dataframe df_total \"\"\"\n",
    "    file = saveDir + rname + \"_may2016\" + \".p\"\n",
    "    if 'df_total' in locals():\n",
    "        df_total = df_total.append(pickle.load(open(file, \"rb\")))\n",
    "    else:\n",
    "        df_total = pickle.load(open(file, \"rb\"))"
   ]
  },
  {
   "cell_type": "markdown",
   "metadata": {},
   "source": [
    "Filter intensity values that are out of range"
   ]
  },
  {
   "cell_type": "code",
   "execution_count": null,
   "metadata": {
    "collapsed": false
   },
   "outputs": [],
   "source": [
    "# df_total = df_total[df_total.intensity < 160000]"
   ]
  },
  {
   "cell_type": "markdown",
   "metadata": {},
   "source": [
    "Rebinning according to the timing tool corrected values"
   ]
  },
  {
   "cell_type": "code",
   "execution_count": null,
   "metadata": {
    "collapsed": false
   },
   "outputs": [],
   "source": [
    "if useTT:\n",
    "#     bin_edges = np.linspace(-550000, 1100000, 150) # [fs]\n",
    "    bin_edges = np.arange(-8000, 20000, 40)  # [fs]\n",
    "    df_binned = fsacla.bin_tt(df_total[df_total.laser_status == 1], bin_edges, calibration=-2.8)"
   ]
  },
  {
   "cell_type": "markdown",
   "metadata": {},
   "source": [
    "Average without timing tool"
   ]
  },
  {
   "cell_type": "code",
   "execution_count": null,
   "metadata": {
    "collapsed": false
   },
   "outputs": [],
   "source": [
    "df_ave = fsacla.bin_motor(df_total, motor=motor)"
   ]
  },
  {
   "cell_type": "markdown",
   "metadata": {},
   "source": [
    "Ploting"
   ]
  },
  {
   "cell_type": "code",
   "execution_count": null,
   "metadata": {
    "collapsed": false
   },
   "outputs": [],
   "source": [
    "plt.figure(fig_num, figsize=(15, 12))\n",
    "if useTT:\n",
    "    time = df_binned.time\n",
    "#     on =  (df_binned.intensity_lon-df_binned.bkg_lon)/df_binned.I0_lon\n",
    "#     on_raw = df_binned.intensity_lon-df_binned.bkg_lon\n",
    "    on = df_binned.intensity_lon/df_binned.I0_lon\n",
    "    on_raw = df_binned.intensity_lon\n",
    "    plt.subplot(3, 2, 1)\n",
    "    plt.title('Run ' + str(runs[0]) + ' timing tool', fontsize=12)\n",
    "    plt.plot((time+700)/1000, on, '-o', label='laser on')\n",
    "    plt.xlabel('time [ps]')\n",
    "    plt.subplot(3, 2, 2)\n",
    "    plt.title('Run ' + str(runs[0]) + ' timing tool, no I0', fontsize=12)\n",
    "    plt.plot((time+700)/1000, on_raw, '-o', label='laser on')\n",
    "    plt.xlabel('time [ps]')\n",
    "\n",
    "if motor is 'delay':\n",
    "    motor_pos = df_ave[motor]*6.66667/1000\n",
    "else:\n",
    "    motor_pos = df_ave[motor]\n",
    "\n",
    "if 'intensity_lon' in df_ave:\n",
    "#     on =  (df_ave.intensity_lon-df_ave.bkg_lon)/df_ave.I0_lon\n",
    "#     on_raw =  (df_ave.intensity_lon-df_ave.bkg_lon)\n",
    "    on = df_ave.intensity_lon/df_ave.I0_lon\n",
    "    on_raw = df_ave.intensity_lon\n",
    "\n",
    "    plt.subplot(3, 2, 3)\n",
    "    plt.title('Run ' + str(runs[0]) + ' no timing tool', fontsize=12)\n",
    "    plt.plot(motor_pos, on, '-o', label='laser on')\n",
    "    plt.xlabel('motor pos. [pulses]')\n",
    "    plt.subplot(3, 2, 4)\n",
    "    plt.title('Run ' + str(runs[0]) + ' no timing tool, no I0', fontsize=12)\n",
    "    plt.plot(motor_pos, on_raw, '-o', label='laser on')\n",
    "    plt.xlabel('motor pos. [pulses]')\n",
    "\n",
    "if 'intensity_loff' in df_ave:\n",
    "#     off =  (df_ave.intensity_loff-df_ave.bkg_loff)/df_ave.I0_loff\n",
    "#     off_raw =  df_ave.intensity_loff-df_ave.bkg_loff\n",
    "    off = df_ave.intensity_loff/df_ave.I0_loff\n",
    "    off_raw = df_ave.intensity_loff\n",
    "\n",
    "    plt.subplot(3, 2, 3)\n",
    "    plt.plot(motor_pos, off, '-o', label='laser off')\n",
    "    plt.xlabel('motor pos. [pulses]')\n",
    "    plt.legend(loc='lower left')\n",
    "    plt.subplot(3, 2, 4)\n",
    "    plt.plot(motor_pos, off_raw, '-o', label='laser off')\n",
    "    plt.legend(loc='lower left')\n",
    "    plt.xlabel('motor pos. [pulses]')\n",
    "\n",
    "    if 'intensity_lon' in df_ave:\n",
    "        plt.subplot(3, 2, 5)\n",
    "        plt.title('Run ' + str(runs[0]) + ' difference', fontsize=12)\n",
    "        plt.plot(motor_pos, (on-off), '-o', label='diff')\n",
    "        plt.xlabel('motor pos. [pulses]')\n",
    "        plt.legend(loc='lower left')\n",
    "        plt.subplot(3, 2, 6)\n",
    "        plt.title('Run ' + str(runs[0]) + ' difference, no I0', fontsize=12)\n",
    "        plt.plot(motor_pos, on_raw-off_raw, '-o', label='diff')\n",
    "        plt.legend(loc='lower left')\n",
    "        plt.xlabel('motor pos. [pulses]')"
   ]
  },
  {
   "cell_type": "code",
   "execution_count": null,
   "metadata": {
    "collapsed": true
   },
   "outputs": [],
   "source": []
  }
 ],
 "metadata": {
  "kernelspec": {
   "display_name": "Python 2",
   "language": "python",
   "name": "python2"
  },
  "language_info": {
   "codemirror_mode": {
    "name": "ipython",
    "version": 2
   },
   "file_extension": ".py",
   "mimetype": "text/x-python",
   "name": "python",
   "nbconvert_exporter": "python",
   "pygments_lexer": "ipython2",
   "version": "2.7.12"
  }
 },
 "nbformat": 4,
 "nbformat_minor": 0
}
