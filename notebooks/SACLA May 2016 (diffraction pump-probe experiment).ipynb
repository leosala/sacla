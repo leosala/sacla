{
 "cells": [
  {
   "cell_type": "markdown",
   "metadata": {},
   "source": [
    "## This notebook presents a very quick overview of the data conversion and analysis that was developed and used during the beamtime in SACLA in May 2016.\n",
    "\n",
    "Don’t hesitate to contact me if you have questions ([vincent.esposito@psi.ch](mailto:vincent.esposito@psi.ch))"
   ]
  },
  {
   "cell_type": "markdown",
   "metadata": {},
   "source": [
    "### Main data analysis pipeline"
   ]
  },
  {
   "cell_type": "code",
   "execution_count": null,
   "metadata": {
    "collapsed": false
   },
   "outputs": [],
   "source": [
    "# Assumes a location of the notebook in <dir_path>/sacla/notebooks and photon_tools module is in the same <dir_path>\n",
    "import os\n",
    "import sys\n",
    "\n",
    "dir_path = os.getcwd() + '/../../'\n",
    "\n",
    "sys.path.append(dir_path + 'sacla')\n",
    "sys.path.append(dir_path + 'photon_tools')\n",
    "\n",
    "import matplotlib.pyplot as plt\n",
    "%matplotlib inline\n",
    "import numpy as np\n",
    "import cPickle as pickle\n",
    "import functions_SACLA_may2016 as fsacla\n",
    "import fct_dataAna_may2016 as dataAna"
   ]
  },
  {
   "cell_type": "markdown",
   "metadata": {},
   "source": [
    "Define test data runs to be processed"
   ]
  },
  {
   "cell_type": "code",
   "execution_count": null,
   "metadata": {
    "collapsed": false
   },
   "outputs": [],
   "source": [
    "runs = [439064, 439065]  # delay\n",
    "# runs = [439020]  # mirror_tilt\n",
    "# runs = [439015]  # phi\n",
    "\n",
    "# runs = np.append(np.arange(439064, 439067, 1), np.arange(439069, 439074, 1))  # bismuth timing\n",
    "# runs = [439109, 439110, 439111, 439112, 439113]\n",
    "# runs = [439114, 439115, 439116, 439117, 439118]\n",
    "# runs = [439121, 439122, 439123, 439124, 439125]\n",
    "\n",
    "# runs = [439215, 439216, 239217]\n",
    "# runs = [439189]\n",
    "# runs = np.arange(439210, 439219, 1) # coarse time scan\n",
    "# runs = np.arange(439197, 439207, 1) # fine time scan\n",
    "\n",
    "# flu=-16000:\n",
    "# runs = [439236, 439237, 439238]                  #time scan 1ns on SL\n",
    "# runs = [439239, 439244]                          #phi scan SL  1ns\n",
    "# runs = [439239, 439243]                          #phi scan SL coarse 200ps\n",
    "# runs = [439245]                                  #phi scan Bragg 1ns\n",
    "# runs = [439246]                                  #phi scan Bragg 200ps\n",
    "# runs = [439250]                                  #phi Bragg 200ps\n",
    "# runs = [439251]                                  #phi Bragg 150ps\n",
    "# runs = [439252]                                  #phi Bragg 500ps\n",
    "# runs = [439253]                                  #phi Bragg 50ps\n",
    "# runs = [439254]                                  #phi Bragg 10ps\n",
    "# runs = [439255, 439258]                          #phi Bragg -100ps\n",
    "# runs = [439256]                                  #phi Bragg 1nsps\n",
    "# runs = [439257]                                  #phi Bragg 500ps\n",
    "\n",
    "#flu=-21000:\n",
    "# runs = [439248]                                  #phi scan SL 200ps\n",
    "# runs = [439249]                                  #phi SL 1ns\n",
    "# runs = [439259]                                  #time scan SL phi 2260\n",
    "# runs = [439260, 439261, 439262]                  #time scan SL phi 2250\n",
    "\n",
    "#flu=-23000:\n",
    "# runs = [439263, 439264, 439265, 439269]           #time scan SL\n",
    "# runs = [439266]                                   #phi scan SL 1ns\n",
    "# runs = [439267]                                   #phi scan SL 200ps\n",
    "# runs = [439268]                                   #phi scan Bragg 200ps\n",
    "\n",
    "# runs = [439269]"
   ]
  },
  {
   "cell_type": "markdown",
   "metadata": {},
   "source": [
    "Choose whether imgAna, loadData and timing tool analysis has to be performed"
   ]
  },
  {
   "cell_type": "code",
   "execution_count": null,
   "metadata": {
    "collapsed": true
   },
   "outputs": [],
   "source": [
    "motor = 'delay'\n",
    "\n",
    "imgAna = 1\n",
    "loadData = 1\n",
    "useTT = 1\n",
    "\n",
    "fig_num = 132\n",
    "\n",
    "n = -1\n",
    "\n",
    "# saveDir = \"/home/esposiv/python_scripts2016/analyzed_runs/\"\n",
    "saveDir = \"/home/usov_i/SACLA Dec2015/python_scripts2016/analyzed_runs/\""
   ]
  },
  {
   "cell_type": "code",
   "execution_count": null,
   "metadata": {
    "collapsed": false
   },
   "outputs": [],
   "source": [
    "if 'df_total' in locals():\n",
    "    del df_total\n",
    "    \n",
    "for run in runs:\n",
    "    print('\\nAnalyzing run ' + str(run) + '\\n')\n",
    "    \"\"\" \n",
    "    Analyze images and integrate roi and bkgRoi. Can take a lot of time \n",
    "    The results are saved in a pickle file in the folder analyzed_runs/imgAna.\n",
    "    To add prepocess, analysis functions, open the dataAna.imgAna function.\n",
    "    \"\"\"\n",
    "    if imgAna:\n",
    "        roi = [[560, 595], [285, 310]]  # SL [[xmin xmax], [ymin ymax]]\n",
    "#         roi = [[420, 470], [190, 230]]  # Bragg Peak [[xmin xmax], [ymin ymax]]        \n",
    "#         bkgRoi = np.array(roi) #+ np.array([[-40, 40], [-40, 40]])\n",
    "        bkgRoi = np.array(roi)\n",
    "        results = dataAna.imgAna(str(run), roi, bkgRoi, n=n)\n",
    "    \n",
    "    \"\"\" \n",
    "    Load the data from the hdf5 file and append the roi and bkgRoi intensities calculated above\n",
    "    The results are saved in a pickle file in the folder analyzed_runs.\n",
    "    To change daq_labels, filters, etc, open the dataAna.loadData function.\n",
    "    \"\"\"\n",
    "    if loadData:\n",
    "        df = dataAna.loadData(str(run), useTT=useTT)\n",
    "    \n",
    "    \"\"\" Appends all dataframes together in a big dataframe df_total \"\"\"\n",
    "    file = saveDir + str(run) + \"_may2016\" + \".p\"\n",
    "    if 'df_total' in locals():\n",
    "        df_total = df_total.append(pickle.load(open(file, \"rb\")))\n",
    "    else:\n",
    "        df_total = pickle.load(open(file, \"rb\"))"
   ]
  },
  {
   "cell_type": "markdown",
   "metadata": {},
   "source": [
    "Filter intensity values that are out of range"
   ]
  },
  {
   "cell_type": "code",
   "execution_count": null,
   "metadata": {
    "collapsed": false
   },
   "outputs": [],
   "source": [
    "# df_total = df_total[df_total.intensity < 160000]"
   ]
  },
  {
   "cell_type": "markdown",
   "metadata": {},
   "source": [
    "Rebinning according to the timing tool corrected values"
   ]
  },
  {
   "cell_type": "code",
   "execution_count": null,
   "metadata": {
    "collapsed": false
   },
   "outputs": [],
   "source": [
    "if useTT:\n",
    "#     bin_edges = np.linspace(-550000, 1100000, 150) # [fs]\n",
    "    bin_edges = np.arange(-8000, 20000, 40)  # [fs]\n",
    "    df_binned = fsacla.bin_tt(df_total[df_total.laser_status == 1], bin_edges, calibration=-2.8)"
   ]
  },
  {
   "cell_type": "markdown",
   "metadata": {},
   "source": [
    "Average without timing tool"
   ]
  },
  {
   "cell_type": "code",
   "execution_count": null,
   "metadata": {
    "collapsed": false
   },
   "outputs": [],
   "source": [
    "df_ave = fsacla.bin_motor(df_total, motor=motor)"
   ]
  },
  {
   "cell_type": "markdown",
   "metadata": {},
   "source": [
    "Ploting"
   ]
  },
  {
   "cell_type": "code",
   "execution_count": null,
   "metadata": {
    "collapsed": false
   },
   "outputs": [],
   "source": [
    "plt.figure(fig_num, figsize=(15, 12))\n",
    "if useTT:\n",
    "    time = df_binned.time\n",
    "#     on =  (df_binned.intensity_lon-df_binned.bkg_lon)/df_binned.I0_lon\n",
    "#     on_raw = df_binned.intensity_lon-df_binned.bkg_lon\n",
    "    on = df_binned.intensity_lon/df_binned.I0_lon\n",
    "    on_raw = df_binned.intensity_lon\n",
    "    plt.subplot(3, 2, 1)\n",
    "    plt.title('Run ' + str(runs[0]) + ' timing tool', fontsize=12)\n",
    "    plt.plot((time+700)/1000, on, '-o', label='laser on')\n",
    "    plt.xlabel('time [ps]')\n",
    "    plt.subplot(3, 2, 2)\n",
    "    plt.title('Run ' + str(runs[0]) + ' timing tool, no I0', fontsize=12)\n",
    "    plt.plot((time+700)/1000, on_raw, '-o', label='laser on')\n",
    "    plt.xlabel('time [ps]')\n",
    "\n",
    "if motor is 'delay':\n",
    "    motor_pos = df_ave[motor]*6.66667/1000\n",
    "else:\n",
    "    motor_pos = df_ave[motor]\n",
    "\n",
    "if 'intensity_lon' in df_ave:\n",
    "#     on =  (df_ave.intensity_lon-df_ave.bkg_lon)/df_ave.I0_lon\n",
    "#     on_raw =  (df_ave.intensity_lon-df_ave.bkg_lon)\n",
    "    on = df_ave.intensity_lon/df_ave.I0_lon\n",
    "    on_raw = df_ave.intensity_lon\n",
    "\n",
    "    plt.subplot(3, 2, 3)\n",
    "    plt.title('Run ' + str(runs[0]) + ' no timing tool', fontsize=12)\n",
    "    plt.plot(motor_pos, on, '-o', label='laser on')\n",
    "    plt.xlabel('motor pos. [pulses]')\n",
    "    plt.subplot(3, 2, 4)\n",
    "    plt.title('Run ' + str(runs[0]) + ' no timing tool, no I0', fontsize=12)\n",
    "    plt.plot(motor_pos, on_raw, '-o', label='laser on')\n",
    "    plt.xlabel('motor pos. [pulses]')\n",
    "\n",
    "if 'intensity_loff' in df_ave:\n",
    "#     off =  (df_ave.intensity_loff-df_ave.bkg_loff)/df_ave.I0_loff\n",
    "#     off_raw =  df_ave.intensity_loff-df_ave.bkg_loff\n",
    "    off = df_ave.intensity_loff/df_ave.I0_loff\n",
    "    off_raw = df_ave.intensity_loff\n",
    "\n",
    "    plt.subplot(3, 2, 3)\n",
    "    plt.plot(motor_pos, off, '-o', label='laser off')\n",
    "    plt.xlabel('motor pos. [pulses]')\n",
    "    plt.legend(loc='lower left')\n",
    "    plt.subplot(3, 2, 4)\n",
    "    plt.plot(motor_pos, off_raw, '-o', label='laser off')\n",
    "    plt.legend(loc='lower left')\n",
    "    plt.xlabel('motor pos. [pulses]')\n",
    "\n",
    "    if 'intensity_lon' in df_ave:\n",
    "        plt.subplot(3, 2, 5)\n",
    "        plt.title('Run ' + str(runs[0]) + ' difference', fontsize=12)\n",
    "        plt.plot(motor_pos, (on-off), '-o', label='diff')\n",
    "        plt.xlabel('motor pos. [pulses]')\n",
    "        plt.legend(loc='lower left')\n",
    "        plt.subplot(3, 2, 6)\n",
    "        plt.title('Run ' + str(runs[0]) + ' difference, no I0', fontsize=12)\n",
    "        plt.plot(motor_pos, on_raw-off_raw, '-o', label='diff')\n",
    "        plt.legend(loc='lower left')\n",
    "        plt.xlabel('motor pos. [pulses]')"
   ]
  },
  {
   "cell_type": "code",
   "execution_count": null,
   "metadata": {
    "collapsed": true
   },
   "outputs": [],
   "source": []
  }
 ],
 "metadata": {
  "kernelspec": {
   "display_name": "Python 2",
   "language": "python",
   "name": "python2"
  },
  "language_info": {
   "codemirror_mode": {
    "name": "ipython",
    "version": 2
   },
   "file_extension": ".py",
   "mimetype": "text/x-python",
   "name": "python",
   "nbconvert_exporter": "python",
   "pygments_lexer": "ipython2",
   "version": "2.7.12"
  }
 },
 "nbformat": 4,
 "nbformat_minor": 0
}
