{
 "metadata": {
  "name": "",
  "signature": "sha256:5f66e7731d700e808c0e6896f22ea1b2d287cd89499c24e89f41747c2fd9100d"
 },
 "nbformat": 3,
 "nbformat_minor": 0,
 "worksheets": [
  {
   "cells": [
    {
     "cell_type": "code",
     "collapsed": false,
     "input": [
      "%matplotlib inline\n",
      "\n",
      "import h5py\n",
      "import numpy as np\n",
      "import matplotlib.pyplot as plt\n",
      "import sys\n",
      "import os\n",
      "from time import time\n",
      "\n",
      "# matplotlib cfg\n",
      "import matplotlib as mpl\n",
      "mpl.rcParams['figure.figsize'] = (10, 10)\n",
      "mpl.rcParams['image.origin'] = \"nearer\"\n",
      "   \n",
      "# fancy interactive plotting\n",
      "from mpld3 import disable_notebook, enable_notebook, plugins\n",
      "enable_notebook()\n",
      "\n",
      "# loading some utils\n",
      "sys.path.append( os.environ[\"PWD\"]+\"/../\" )\n",
      "import utilities as ut\n"
     ],
     "language": "python",
     "metadata": {},
     "outputs": [],
     "prompt_number": 1
    },
    {
     "cell_type": "code",
     "collapsed": false,
     "input": [
      "### Data directory\n",
      "DIR = \"/media/sala/Elements/Data/Sacla/\"\n",
      "#DIR = \"../\"\n",
      "\n",
      "### Run selection\n",
      "#run = \"206197\"\n",
      "run = \"206162\"\n",
      "#run = \"206178\"\n",
      "#run = \"206183\"\n",
      "\n",
      "calib_run = \"206162\"\n",
      "\n",
      "### ROI\n",
      "#roi = [[0, 1024], [325, 335]]  # X, Y\n",
      "\n",
      "### Open data file and calibration file\n",
      "f = h5py.File(DIR + run + \".h5\")\n",
      "\n",
      "### Get tag list and per-pixel calibration\n",
      "tag_list = f[\"/run_\" + run + \"/event_info/tag_number_list\"][:]\n",
      "\n",
      "### \n",
      "#f_calib = h5py.File(\"../\" + calib_run + \"_mpccd_calib.h5\", \"r\")\n",
      "#corr = f_calib[calib_run + \"/MPCCD-1N0-M01-001/per_pixel_calib\"][:]\n",
      "\n",
      "corr = ut.analysis.per_pixel_correction(data, thr, chk_size=100)\n",
      "\n",
      "### Create laser-on / off masks\n",
      "is_laser = f[\"/run_\" + run + \"/event_info/bl_3/lh_1/laser_pulse_selector_status\"][:]\n",
      "is_laser_off = is_laser == 0\n",
      "is_laser_on = is_laser == 1\n",
      "\n",
      "### Create the spectra\n",
      "init = time()\n",
      "spectrum_on, spectrum_off = ut.cython_utils.get_spectrum_sacla(f[\"/run_\" + run + \"/detector_2d_1/\"], \n",
      "                                                               tag_list, corr, masks=[[is_laser_on], [is_laser_off]])\n",
      "print \"time:\", time() - init\n",
      "### Spectra normalization\n",
      "spectrum_off = spectrum_off / spectrum_off.sum()\n",
      "spectrum_on = spectrum_on / spectrum_on.sum()\n",
      "\n",
      "### Plotting\n",
      "plt.subplot(2, 1, 1)\n",
      "plt.plot(corr.sum(axis=1))\n",
      "plt.subplot(2, 1, 2)\n",
      "plt.plot(spectrum_off, label=\"laser off\")\n",
      "plt.plot(spectrum_on, label=\"laser on\")\n",
      "plt.plot(spectrum_on - spectrum_off, label=\"on - off\", color=\"k\")\n",
      "plt.legend(loc=\"best\")\n",
      "\n",
      "f_calib.close()"
     ],
     "language": "python",
     "metadata": {},
     "outputs": [
      {
       "ename": "KeyError",
       "evalue": "'Unable to open object (Component not found)'",
       "output_type": "pyerr",
       "traceback": [
        "\u001b[1;31m---------------------------------------------------------------------------\u001b[0m\n\u001b[1;31mKeyError\u001b[0m                                  Traceback (most recent call last)",
        "\u001b[1;32m<ipython-input-3-0cfb409d2ec3>\u001b[0m in \u001b[0;36m<module>\u001b[1;34m()\u001b[0m\n\u001b[0;32m     18\u001b[0m \u001b[1;33m\u001b[0m\u001b[0m\n\u001b[0;32m     19\u001b[0m \u001b[1;31m### Get tag list and per-pixel calibration\u001b[0m\u001b[1;33m\u001b[0m\u001b[1;33m\u001b[0m\u001b[0m\n\u001b[1;32m---> 20\u001b[1;33m \u001b[0mtag_list\u001b[0m \u001b[1;33m=\u001b[0m \u001b[0mf\u001b[0m\u001b[1;33m[\u001b[0m\u001b[1;34m\"/run_\"\u001b[0m \u001b[1;33m+\u001b[0m \u001b[0mrun\u001b[0m \u001b[1;33m+\u001b[0m \u001b[1;34m\"/event_info/tag_number_list\"\u001b[0m\u001b[1;33m]\u001b[0m\u001b[1;33m[\u001b[0m\u001b[1;33m:\u001b[0m\u001b[1;33m]\u001b[0m\u001b[1;33m\u001b[0m\u001b[0m\n\u001b[0m\u001b[0;32m     21\u001b[0m \u001b[1;33m\u001b[0m\u001b[0m\n\u001b[0;32m     22\u001b[0m \u001b[1;31m###\u001b[0m\u001b[1;33m\u001b[0m\u001b[1;33m\u001b[0m\u001b[0m\n",
        "\u001b[1;32m/home/sala/Programs/anaconda/lib/python2.7/site-packages/h5py/_hl/group.pyc\u001b[0m in \u001b[0;36m__getitem__\u001b[1;34m(self, name)\u001b[0m\n\u001b[0;32m    151\u001b[0m                 \u001b[1;32mraise\u001b[0m \u001b[0mValueError\u001b[0m\u001b[1;33m(\u001b[0m\u001b[1;34m\"Invalid HDF5 object reference\"\u001b[0m\u001b[1;33m)\u001b[0m\u001b[1;33m\u001b[0m\u001b[0m\n\u001b[0;32m    152\u001b[0m         \u001b[1;32melse\u001b[0m\u001b[1;33m:\u001b[0m\u001b[1;33m\u001b[0m\u001b[0m\n\u001b[1;32m--> 153\u001b[1;33m             \u001b[0moid\u001b[0m \u001b[1;33m=\u001b[0m \u001b[0mh5o\u001b[0m\u001b[1;33m.\u001b[0m\u001b[0mopen\u001b[0m\u001b[1;33m(\u001b[0m\u001b[0mself\u001b[0m\u001b[1;33m.\u001b[0m\u001b[0mid\u001b[0m\u001b[1;33m,\u001b[0m \u001b[0mself\u001b[0m\u001b[1;33m.\u001b[0m\u001b[0m_e\u001b[0m\u001b[1;33m(\u001b[0m\u001b[0mname\u001b[0m\u001b[1;33m)\u001b[0m\u001b[1;33m,\u001b[0m \u001b[0mlapl\u001b[0m\u001b[1;33m=\u001b[0m\u001b[0mself\u001b[0m\u001b[1;33m.\u001b[0m\u001b[0m_lapl\u001b[0m\u001b[1;33m)\u001b[0m\u001b[1;33m\u001b[0m\u001b[0m\n\u001b[0m\u001b[0;32m    154\u001b[0m \u001b[1;33m\u001b[0m\u001b[0m\n\u001b[0;32m    155\u001b[0m         \u001b[0motype\u001b[0m \u001b[1;33m=\u001b[0m \u001b[0mh5i\u001b[0m\u001b[1;33m.\u001b[0m\u001b[0mget_type\u001b[0m\u001b[1;33m(\u001b[0m\u001b[0moid\u001b[0m\u001b[1;33m)\u001b[0m\u001b[1;33m\u001b[0m\u001b[0m\n",
        "\u001b[1;32m/home/sala/Programs/anaconda/lib/python2.7/site-packages/h5py/h5o.so\u001b[0m in \u001b[0;36mh5py.h5o.open (h5py/h5o.c:3390)\u001b[1;34m()\u001b[0m\n",
        "\u001b[1;31mKeyError\u001b[0m: 'Unable to open object (Component not found)'"
       ]
      }
     ],
     "prompt_number": 3
    }
   ],
   "metadata": {}
  }
 ]
}