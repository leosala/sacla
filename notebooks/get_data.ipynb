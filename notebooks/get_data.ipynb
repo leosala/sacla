{
 "metadata": {
  "name": "",
  "signature": "sha256:a193044f880a5dc3878729ac70cd9ea09309b48acb9e1b05e78304850b852321"
 },
 "nbformat": 3,
 "nbformat_minor": 0,
 "worksheets": [
  {
   "cells": [
    {
     "cell_type": "code",
     "collapsed": false,
     "input": [
      "start_run = 3\n",
      "fortest=6\n",
      "def get_last_run():\n",
      "    global fortest\n",
      "    run = fortest\n",
      "    if fortest < 20:\n",
      "        fortest=fortest+2\n",
      "    return run"
     ],
     "language": "python",
     "metadata": {},
     "outputs": [],
     "prompt_number": 30
    },
    {
     "cell_type": "code",
     "collapsed": false,
     "input": [
      "import os\n",
      "import shutil\n",
      "import time\n",
      "\n",
      "#/work/timbvd/hdf5/<runnumber>.h5\n",
      "data_directory='/Users/ebner/Desktop/data'\n",
      "tmp_data_directory='/Users/ebner/Desktop/data/tmp'\n",
      "taglist_directory='/Users/ebner/Desktop/data/taglists'\n",
      "\n",
      "maketaglist_condition_file='/Users/ebner/Desktop/data/config/condition.conf'\n",
      "dataconvert_config_file='/Users/ebner/Desktop/data/config/file.conf'\n",
      "\n",
      "beamline=3\n",
      "\n",
      "if not os.path.exists(tmp_data_directory):\n",
      "    print 'Create temporary directory %s' % tmp_data_directory\n",
      "    os.makedirs(tmp_data_directory)\n",
      "\n",
      "last_run = get_last_run()\n",
      "current_run = start_run\n",
      "while current_run <= last_run:\n",
      "    while current_run <= last_run:\n",
      "        print current_run\n",
      "        \n",
      "        tmp_data_file= '%s/%06d.h5' % (tmp_data_directory, current_run)\n",
      "        data_file= '%s/%06d.h5' % (data_directory, current_run)\n",
      "        \n",
      "        # Check whether run was already downloaded\n",
      "        if os.path.isfile(data_file):\n",
      "            print('Datafile for run %s already exists' % current_run)\n",
      "        else:\n",
      "            # Start the download of the run (to temporary folder)\n",
      "            print('Download datafile for run: %s' % current_run)\n",
      "            \n",
      "            ## [begin] DataConvert4\n",
      "            os.system( \"touch %s\" % tmp_data_file )\n",
      "            time.sleep(1)\n",
      "            \n",
      "            # Make taglist\n",
      "            #MakeTagList -b <beamline> -r <run_number> -inp FEL_openshutter.txt -out tag_number_run<run_number>.txt \n",
      "            #MakeTagList -b 3 -r 243561 -inp FEL_openshutter.txt -out tag_number_run243561.txt \n",
      "            taglist_file = '%s/%06d_taglist.txt' % (taglist_directory, current_run)\n",
      "            print 'MakeTagList -b %d -r %06d -inp %s -out %s' % (beamline, current_run, maketaglist_condition_file, taglist_file)\n",
      "\n",
      "            # Call DataConvert4\n",
      "            # DataConvert4 -f test1017.conf -l tag_number1017.list -dir ./ -o test1017.h5\n",
      "            print 'DataConvert4 -f %s -l %s -dir %s -o %06d.h5' % (dataconvert_config_file, taglist_file, tmp_data_directory, current_run)\n",
      "\n",
      "            ## [end] DataConvert4\n",
      "            \n",
      "            # Move file to data folder\n",
      "            print('Move datafile')\n",
      "            shutil.move(tmp_data_file,data_file)\n",
      "        \n",
      "        current_run=current_run+1\n",
      "    print 'checking for new runs'\n",
      "    last_run = get_last_run()\n",
      "    \n"
     ],
     "language": "python",
     "metadata": {},
     "outputs": [
      {
       "output_type": "stream",
       "stream": "stdout",
       "text": [
        "3\n",
        "Download datafile for run: 3\n",
        "MakeTagList -b 3 -r 000003 -inp /Users/ebner/Desktop/data/config/condition.conf -out /Users/ebner/Desktop/data/taglists/000003_taglist.txt"
       ]
      },
      {
       "output_type": "stream",
       "stream": "stdout",
       "text": [
        "\n",
        "DataConvert4 -f /Users/ebner/Desktop/data/config/file.conf -l /Users/ebner/Desktop/data/taglists/000003_taglist.txt -dir /Users/ebner/Desktop/data/tmp -o 000003.h5\n",
        "Move datafile\n",
        "4\n",
        "Download datafile for run: 4\n",
        "MakeTagList -b 3 -r 000004 -inp /Users/ebner/Desktop/data/config/condition.conf -out /Users/ebner/Desktop/data/taglists/000004_taglist.txt"
       ]
      },
      {
       "output_type": "stream",
       "stream": "stdout",
       "text": [
        "\n",
        "DataConvert4 -f /Users/ebner/Desktop/data/config/file.conf -l /Users/ebner/Desktop/data/taglists/000004_taglist.txt -dir /Users/ebner/Desktop/data/tmp -o 000004.h5\n",
        "Move datafile\n",
        "5\n",
        "Download datafile for run: 5\n",
        "MakeTagList -b 3 -r 000005 -inp /Users/ebner/Desktop/data/config/condition.conf -out /Users/ebner/Desktop/data/taglists/000005_taglist.txt"
       ]
      },
      {
       "output_type": "stream",
       "stream": "stdout",
       "text": [
        "\n",
        "DataConvert4 -f /Users/ebner/Desktop/data/config/file.conf -l /Users/ebner/Desktop/data/taglists/000005_taglist.txt -dir /Users/ebner/Desktop/data/tmp -o 000005.h5\n",
        "Move datafile\n",
        "6\n",
        "Download datafile for run: 6\n",
        "MakeTagList -b 3 -r 000006 -inp /Users/ebner/Desktop/data/config/condition.conf -out /Users/ebner/Desktop/data/taglists/000006_taglist.txt"
       ]
      },
      {
       "output_type": "stream",
       "stream": "stdout",
       "text": [
        "\n",
        "DataConvert4 -f /Users/ebner/Desktop/data/config/file.conf -l /Users/ebner/Desktop/data/taglists/000006_taglist.txt -dir /Users/ebner/Desktop/data/tmp -o 000006.h5\n",
        "Move datafile\n",
        "7\n",
        "Download datafile for run: 7\n",
        "MakeTagList -b 3 -r 000007 -inp /Users/ebner/Desktop/data/config/condition.conf -out /Users/ebner/Desktop/data/taglists/000007_taglist.txt"
       ]
      },
      {
       "output_type": "stream",
       "stream": "stdout",
       "text": [
        "\n",
        "DataConvert4 -f /Users/ebner/Desktop/data/config/file.conf -l /Users/ebner/Desktop/data/taglists/000007_taglist.txt -dir /Users/ebner/Desktop/data/tmp -o 000007.h5\n",
        "Move datafile\n",
        "8\n",
        "Download datafile for run: 8\n",
        "MakeTagList -b 3 -r 000008 -inp /Users/ebner/Desktop/data/config/condition.conf -out /Users/ebner/Desktop/data/taglists/000008_taglist.txt"
       ]
      },
      {
       "output_type": "stream",
       "stream": "stdout",
       "text": [
        "\n",
        "DataConvert4 -f /Users/ebner/Desktop/data/config/file.conf -l /Users/ebner/Desktop/data/taglists/000008_taglist.txt -dir /Users/ebner/Desktop/data/tmp -o 000008.h5\n",
        "Move datafile\n",
        "9\n",
        "Download datafile for run: 9\n",
        "MakeTagList -b 3 -r 000009 -inp /Users/ebner/Desktop/data/config/condition.conf -out /Users/ebner/Desktop/data/taglists/000009_taglist.txt"
       ]
      },
      {
       "output_type": "stream",
       "stream": "stdout",
       "text": [
        "\n",
        "DataConvert4 -f /Users/ebner/Desktop/data/config/file.conf -l /Users/ebner/Desktop/data/taglists/000009_taglist.txt -dir /Users/ebner/Desktop/data/tmp -o 000009.h5\n",
        "Move datafile\n",
        "10\n",
        "Download datafile for run: 10\n",
        "MakeTagList -b 3 -r 000010 -inp /Users/ebner/Desktop/data/config/condition.conf -out /Users/ebner/Desktop/data/taglists/000010_taglist.txt"
       ]
      },
      {
       "output_type": "stream",
       "stream": "stdout",
       "text": [
        "\n",
        "DataConvert4 -f /Users/ebner/Desktop/data/config/file.conf -l /Users/ebner/Desktop/data/taglists/000010_taglist.txt -dir /Users/ebner/Desktop/data/tmp -o 000010.h5\n",
        "Move datafile\n",
        "11\n",
        "Download datafile for run: 11\n",
        "MakeTagList -b 3 -r 000011 -inp /Users/ebner/Desktop/data/config/condition.conf -out /Users/ebner/Desktop/data/taglists/000011_taglist.txt"
       ]
      },
      {
       "output_type": "stream",
       "stream": "stdout",
       "text": [
        "\n",
        "DataConvert4 -f /Users/ebner/Desktop/data/config/file.conf -l /Users/ebner/Desktop/data/taglists/000011_taglist.txt -dir /Users/ebner/Desktop/data/tmp -o 000011.h5\n",
        "Move datafile\n",
        "12\n",
        "Download datafile for run: 12\n",
        "MakeTagList -b 3 -r 000012 -inp /Users/ebner/Desktop/data/config/condition.conf -out /Users/ebner/Desktop/data/taglists/000012_taglist.txt"
       ]
      },
      {
       "output_type": "stream",
       "stream": "stdout",
       "text": [
        "\n",
        "DataConvert4 -f /Users/ebner/Desktop/data/config/file.conf -l /Users/ebner/Desktop/data/taglists/000012_taglist.txt -dir /Users/ebner/Desktop/data/tmp -o 000012.h5\n",
        "Move datafile\n",
        "13\n",
        "Download datafile for run: 13\n",
        "MakeTagList -b 3 -r 000013 -inp /Users/ebner/Desktop/data/config/condition.conf -out /Users/ebner/Desktop/data/taglists/000013_taglist.txt"
       ]
      },
      {
       "output_type": "stream",
       "stream": "stdout",
       "text": [
        "\n",
        "DataConvert4 -f /Users/ebner/Desktop/data/config/file.conf -l /Users/ebner/Desktop/data/taglists/000013_taglist.txt -dir /Users/ebner/Desktop/data/tmp -o 000013.h5\n",
        "Move datafile\n",
        "14\n",
        "Download datafile for run: 14\n",
        "MakeTagList -b 3 -r 000014 -inp /Users/ebner/Desktop/data/config/condition.conf -out /Users/ebner/Desktop/data/taglists/000014_taglist.txt"
       ]
      },
      {
       "output_type": "stream",
       "stream": "stdout",
       "text": [
        "\n",
        "DataConvert4 -f /Users/ebner/Desktop/data/config/file.conf -l /Users/ebner/Desktop/data/taglists/000014_taglist.txt -dir /Users/ebner/Desktop/data/tmp -o 000014.h5\n",
        "Move datafile\n",
        "15\n",
        "Download datafile for run: 15\n",
        "MakeTagList -b 3 -r 000015 -inp /Users/ebner/Desktop/data/config/condition.conf -out /Users/ebner/Desktop/data/taglists/000015_taglist.txt"
       ]
      },
      {
       "output_type": "stream",
       "stream": "stdout",
       "text": [
        "\n",
        "DataConvert4 -f /Users/ebner/Desktop/data/config/file.conf -l /Users/ebner/Desktop/data/taglists/000015_taglist.txt -dir /Users/ebner/Desktop/data/tmp -o 000015.h5\n",
        "Move datafile\n",
        "16\n",
        "Download datafile for run: 16\n",
        "MakeTagList -b 3 -r 000016 -inp /Users/ebner/Desktop/data/config/condition.conf -out /Users/ebner/Desktop/data/taglists/000016_taglist.txt"
       ]
      },
      {
       "output_type": "stream",
       "stream": "stdout",
       "text": [
        "\n",
        "DataConvert4 -f /Users/ebner/Desktop/data/config/file.conf -l /Users/ebner/Desktop/data/taglists/000016_taglist.txt -dir /Users/ebner/Desktop/data/tmp -o 000016.h5\n",
        "Move datafile\n",
        "17\n",
        "Download datafile for run: 17\n",
        "MakeTagList -b 3 -r 000017 -inp /Users/ebner/Desktop/data/config/condition.conf -out /Users/ebner/Desktop/data/taglists/000017_taglist.txt"
       ]
      },
      {
       "output_type": "stream",
       "stream": "stdout",
       "text": [
        "\n",
        "DataConvert4 -f /Users/ebner/Desktop/data/config/file.conf -l /Users/ebner/Desktop/data/taglists/000017_taglist.txt -dir /Users/ebner/Desktop/data/tmp -o 000017.h5\n",
        "Move datafile\n",
        "18\n",
        "Download datafile for run: 18\n",
        "MakeTagList -b 3 -r 000018 -inp /Users/ebner/Desktop/data/config/condition.conf -out /Users/ebner/Desktop/data/taglists/000018_taglist.txt"
       ]
      },
      {
       "output_type": "stream",
       "stream": "stdout",
       "text": [
        "\n",
        "DataConvert4 -f /Users/ebner/Desktop/data/config/file.conf -l /Users/ebner/Desktop/data/taglists/000018_taglist.txt -dir /Users/ebner/Desktop/data/tmp -o 000018.h5\n",
        "Move datafile\n",
        "19\n",
        "Download datafile for run: 19\n",
        "MakeTagList -b 3 -r 000019 -inp /Users/ebner/Desktop/data/config/condition.conf -out /Users/ebner/Desktop/data/taglists/000019_taglist.txt"
       ]
      },
      {
       "output_type": "stream",
       "stream": "stdout",
       "text": [
        "\n",
        "DataConvert4 -f /Users/ebner/Desktop/data/config/file.conf -l /Users/ebner/Desktop/data/taglists/000019_taglist.txt -dir /Users/ebner/Desktop/data/tmp -o 000019.h5\n",
        "Move datafile\n",
        "20\n",
        "Download datafile for run: 20\n",
        "MakeTagList -b 3 -r 000020 -inp /Users/ebner/Desktop/data/config/condition.conf -out /Users/ebner/Desktop/data/taglists/000020_taglist.txt"
       ]
      },
      {
       "output_type": "stream",
       "stream": "stdout",
       "text": [
        "\n",
        "DataConvert4 -f /Users/ebner/Desktop/data/config/file.conf -l /Users/ebner/Desktop/data/taglists/000020_taglist.txt -dir /Users/ebner/Desktop/data/tmp -o 000020.h5\n",
        "Move datafile\n",
        "checking for new runs\n"
       ]
      }
     ],
     "prompt_number": 51
    },
    {
     "cell_type": "code",
     "collapsed": false,
     "input": [
      "get_last_run()"
     ],
     "language": "python",
     "metadata": {},
     "outputs": [
      {
       "metadata": {},
       "output_type": "pyout",
       "prompt_number": 46,
       "text": [
        "20"
       ]
      }
     ],
     "prompt_number": 46
    },
    {
     "cell_type": "code",
     "collapsed": false,
     "input": [],
     "language": "python",
     "metadata": {},
     "outputs": []
    }
   ],
   "metadata": {}
  }
 ]
}