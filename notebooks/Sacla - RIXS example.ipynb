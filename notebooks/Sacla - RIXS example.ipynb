{
 "cells": [
  {
   "cell_type": "markdown",
   "metadata": {},
   "source": [
    "# Sacla - RIXS example\n",
    "\n",
    "In this notebook, some simple code is provided as an example to produce some Resonant Inelastic X-Ray Scattering (RIXS) maps.\n",
    "\n",
    "The basic steps to be performed are:\n",
    "- select a suitable set of runs\n",
    "- scan for finding the scanned monochromator energies\n",
    "- produce the spectra for each energy, and the on/off maps\n",
    "\n",
    "*The aim of this tutorial is not to produce extremely efficient code, but code as simple and as fast as possible to support the data quality evaluation during beamtime and after.*\n",
    "\n",
    "We'll start with the usual set of imports:"
   ]
  },
  {
   "cell_type": "code",
   "execution_count": 1,
   "metadata": {
    "collapsed": false
   },
   "outputs": [],
   "source": [
    "import numpy as np\n",
    "import matplotlib as mpl\n",
    "# loading customized matplotlib style. If not available, it does nothing\n",
    "try:\n",
    "    mpl.rcParams = mpl.rc_params_from_file(\"/swissfel/photonics/sala/sacla/utilities/matplotlibrc\")\n",
    "except:\n",
    "    pass\n",
    "\n",
    "# using the NBAgg backend, which allows interactive plots in the Notebook\n",
    "mpl.use(\"nbagg\")\n",
    "\n",
    "import matplotlib.pyplot as plt\n",
    "import sys\n",
    "import h5py\n",
    "import pandas as pd\n",
    "\n",
    "# Loading SACLA tools \n",
    "SACLA_LIB = \"/swissfel/photonics/sala/sacla\"\n",
    "sys.path.append(SACLA_LIB)\n",
    "import utilities as ut\n",
    "\n",
    "# specific converters for the 2014-11 data taking. These should be customized per each beamtime!\n",
    "from utilities import beamtime_converter_201411XX as sacla_converter\n",
    "\n",
    "DIR = \"/swissfel/photonics/data/2014-11-26_SACLA_ZnO/hdf5/\""
   ]
  },
  {
   "cell_type": "markdown",
   "metadata": {},
   "source": [
    "Then, we define:\n",
    "* the SACLA datasets\n",
    "* $t_0$\n",
    "* the runs to be analyzed"
   ]
  },
  {
   "cell_type": "code",
   "execution_count": 2,
   "metadata": {
    "collapsed": false
   },
   "outputs": [],
   "source": [
    "# Define SACLA quantities - they can change from beamtime to beamtime\n",
    "daq_labels = {}\n",
    "daq_labels[\"I0_down\"] = \"event_info/bl_3/eh_4/photodiode/photodiode_I0_lower_user_7_in_volt\"\n",
    "daq_labels[\"I0_up\"] = \"event_info/bl_3/eh_4/photodiode/photodiode_I0_upper_user_8_in_volt\"\n",
    "daq_labels[\"TFY\"] = \"event_info/bl_3/eh_4/photodiode/photodiode_sample_PD_user_9_in_volt\"\n",
    "daq_labels[\"photon_mono_energy\"] = \"event_info/bl_3/tc/mono_1_position_theta\"\n",
    "daq_labels[\"delay\"] = \"event_info/bl_3/eh_4/laser/delay_line_motor_29\"\n",
    "daq_labels[\"ND\"] = \"event_info/bl_3/eh_4/laser/nd_filter_motor_26\"\n",
    "daq_labels[\"photon_sase_energy\"] = \"event_info/bl_3/oh_2/photon_energy_in_eV\"\n",
    "daq_labels[\"x_status\"] = \"event_info/bl_3/eh_1/xfel_pulse_selector_status\"\n",
    "daq_labels[\"x_shut\"] = \"event_info/bl_3/shutter_1_open_valid_status\"\n",
    "daq_labels[\"laser_status\"] = \"event_info/bl_3/lh_1/laser_pulse_selector_status\"\n",
    "daq_labels[\"tags\"] = \"event_info/tag_number_list\"\n",
    "\n",
    "# the t0, to be found experimentally\n",
    "t0 = 220.86\n",
    "\n",
    "# these runs should correspond to delay=5ps\n",
    "runs = [str(x) for x in range(258852, 258883)]\n",
    "runs = sorted(runs)"
   ]
  },
  {
   "cell_type": "markdown",
   "metadata": {},
   "source": [
    "In principle, a single run can contain *multiple mono settings*, so we need to load data from all the runs, and the group them by mono energy. `Pandas` can help us with that...\n",
    "\n",
    "We load all data from files, place it in a `DataFrame`, and then add some useful derived quantities. At last, we use `tags` as index for the `DataFrame`"
   ]
  },
  {
   "cell_type": "code",
   "execution_count": 3,
   "metadata": {
    "collapsed": false
   },
   "outputs": [],
   "source": [
    "# create a DataFrame\n",
    "df = pd.DataFrame(columns=daq_labels.keys(), )\n",
    "\n",
    "for run in runs:\n",
    "    mydict = {}  # temporary dict, where to store data\n",
    "    fname = DIR + str(run) +\"_roi.h5\"  # the file name\n",
    "    f = h5py.File(fname, \"r\")\n",
    "    main_dset = f[\"run_\" + str(run)]\n",
    "    \n",
    "    # Loading data from the specified datasets\n",
    "    for k, v in daq_labels.iteritems():\n",
    "        if k == \"delay\":\n",
    "            # delays are in motor steps\n",
    "            mydict[k] = sacla_converter.convert(\"delay\", main_dset[v][:], t0=t0)\n",
    "        elif k == \"photon_mono_energy\":\n",
    "            # mono energy settings are in motor steps\n",
    "            mydict[k] = sacla_converter.convert(\"energy\", main_dset[v][:])\n",
    "        elif k == \"photon_sase_energy\":\n",
    "            mydict[k + \"_mean\"] = main_dset[v][:].mean()\n",
    "        else:\n",
    "            mydict[k] = main_dset[v][:]\n",
    "    \n",
    "    tmp_df = pd.DataFrame(data=mydict)\n",
    "    tmp_df[\"run\"] = run\n",
    "    # Append the data to the dataframe\n",
    "    df = df.append(tmp_df)\n",
    "\n",
    "# round mono energy and delay\n",
    "df.photon_mono_energy = np.round(df.photon_mono_energy.values, decimals=3)\n",
    "df.delay = np.round(df.delay.values, decimals=2)\n",
    "\n",
    "# create total I0 and absorption coefficients\n",
    "df[\"I0\"] = df.I0_up + df.I0_down\n",
    "df[\"absorp\"] = df.TFY / df.I0\n",
    "df[\"is_laser\"] = (df['laser_status'] == 1)\n",
    "\n",
    "# set tag number as index\n",
    "df = df.set_index(\"tags\")"
   ]
  },
  {
   "cell_type": "markdown",
   "metadata": {},
   "source": [
    "The last preliminary step is to filter out garbage data. As a bonus, you can also find out at which `tag` the mono scan setting changed:"
   ]
  },
  {
   "cell_type": "code",
   "execution_count": 4,
   "metadata": {
    "collapsed": false
   },
   "outputs": [
    {
     "name": "stdout",
     "output_type": "stream",
     "text": [
      "[412626300.0, 412648260.0, 412659300.0, 412670340.0, 412681380.0, 412692480.0, 412703460.0, 412717500.0, 412728540.0, 412739580.0, 412761060.0, 412772100.0, 412783200.0, 412794240.0, 412816380.0, 412827420.0, 412838460.0, 412849500.0, 412860540.0, 412871580.0, 412886402.0, 412897440.0, 412908480.0, 412919520.0, 412941480.0, 412952580.0, 412963680.0, 412974840.0]\n"
     ]
    }
   ],
   "source": [
    "# preparing the is_data mask\n",
    "is_data = (df.x_shut == 1) & (df.x_status == 1) & (df.photon_mono_energy > 9.6)\n",
    "is_data = is_data & (df.I0_up > 0.01) & (df.I0_down > 0.01) & (df.ND > -1)\n",
    "\n",
    "# filtering out garbage\n",
    "df = df[is_data]\n",
    "\n",
    "# getting quantities when a variable changes\n",
    "tmp = df.photon_mono_energy.values[1:] - df.photon_mono_energy.values[0:-1]\n",
    "mask =tmp!=0\n",
    "mask = np.insert(mask, 0, True, )\n",
    "# this is where it changes\n",
    "print df[mask].index.tolist()"
   ]
  },
  {
   "cell_type": "markdown",
   "metadata": {},
   "source": [
    "Now we can run the analysis. For each energy value and each run, a *list of tags* is created, such that events hage the same mono energy and they are part of the same run (as each run is in a separated file). For each of these lists, we run the `AnalysisProcessor` and create the required spectra, for laser on and off. "
   ]
  },
  {
   "cell_type": "code",
   "execution_count": 5,
   "metadata": {
    "collapsed": false
   },
   "outputs": [
    {
     "name": "stdout",
     "output_type": "stream",
     "text": [
      "[INFO] Setting a new dataset, removing stored preprocess functions. To overcome this, use remove_preprocess=False\n",
      "CPU times: user 7 ms, sys: 0 ns, total: 7 ms\n",
      "Wall time: 6.4 ms\n"
     ]
    }
   ],
   "source": [
    "%%time\n",
    "# the mono energies contained in the files\n",
    "energies_list = sorted(df.photon_mono_energy.unique().tolist())\n",
    "\n",
    "# The AnalysisProcessor\n",
    "an = ut.analysis.AnalysisProcessor()\n",
    "# if you want a flat dict as a result\n",
    "an.flatten_results = True\n",
    "    \n",
    "# add analysis\n",
    "an.add_analysis(\"image_get_spectra\", args={'axis': 1, })  #'thr_low': thr,})\n",
    "an.add_analysis(\"image_get_mean_std\", )  #args={'thr_low': thr})\n",
    "#bins = np.arange(-150, 300, 5)\n",
    "#an.add_analysis(\"image_get_histo_adu\", args={'bins': bins})\n",
    "\n",
    "# set the dataset, and the threshold\n",
    "dataset_name = \"detector_2d_1\"\n",
    "thr = 70\n",
    "an.set_sacla_dataset(dataset_name)\n",
    "\n",
    "# add preprocess steps\n",
    "an.add_preprocess(\"image_set_thr\", args={'thr_low': thr})\n",
    "        \n",
    "# run the analysis\n",
    "n_events = -1\n",
    "spectrum_on = None\n",
    "spectrum_off = None\n",
    "\n",
    "fnames = [DIR + str(run) +\"_roi.h5\" for run in runs]\n",
    "\n",
    "#reload(ut)\n",
    "#reload(ut.analysis)\n",
    "\n"
   ]
  },
  {
   "cell_type": "code",
   "execution_count": 6,
   "metadata": {
    "collapsed": false
   },
   "outputs": [
    {
     "name": "stdout",
     "output_type": "stream",
     "text": [
      "(2642, 1024) (5307,) (5308, 15) (2642,)\n"
     ]
    },
    {
     "ename": "ValueError",
     "evalue": "Item wrong length 5307 instead of 5308.",
     "output_type": "error",
     "traceback": [
      "\u001b[1;31m---------------------------------------------------------------------------\u001b[0m",
      "\u001b[1;31mValueError\u001b[0m                                Traceback (most recent call last)",
      "\u001b[1;32m<ipython-input-6-3dcf18e31cf3>\u001b[0m in \u001b[0;36m<module>\u001b[1;34m()\u001b[0m\n\u001b[0;32m     21\u001b[0m         \u001b[0mlaseron_mask\u001b[0m \u001b[1;33m=\u001b[0m \u001b[0menergy_mask\u001b[0m\u001b[1;33m.\u001b[0m\u001b[0mis_laser\u001b[0m\u001b[1;33m.\u001b[0m\u001b[0mvalues\u001b[0m\u001b[1;33m[\u001b[0m\u001b[1;33m:\u001b[0m\u001b[0mn_events\u001b[0m\u001b[1;33m]\u001b[0m\u001b[1;33m\u001b[0m\u001b[0m\n\u001b[0;32m     22\u001b[0m         \u001b[1;32mprint\u001b[0m \u001b[0mresults\u001b[0m\u001b[1;33m[\u001b[0m\u001b[1;34m\"spectra\"\u001b[0m\u001b[1;33m]\u001b[0m\u001b[1;33m[\u001b[0m\u001b[0mlaseron_mask\u001b[0m\u001b[1;33m]\u001b[0m\u001b[1;33m.\u001b[0m\u001b[0mshape\u001b[0m\u001b[1;33m,\u001b[0m \u001b[0mlaseron_mask\u001b[0m\u001b[1;33m.\u001b[0m\u001b[0mshape\u001b[0m\u001b[1;33m,\u001b[0m \u001b[0mdf_run\u001b[0m\u001b[1;33m.\u001b[0m\u001b[0mshape\u001b[0m\u001b[1;33m,\u001b[0m \u001b[0mdf_run\u001b[0m\u001b[1;33m[\u001b[0m\u001b[1;34m\"I0\"\u001b[0m\u001b[1;33m]\u001b[0m\u001b[1;33m[\u001b[0m\u001b[0mlaseron_mask\u001b[0m\u001b[1;33m]\u001b[0m\u001b[1;33m.\u001b[0m\u001b[0mshape\u001b[0m\u001b[1;33m\u001b[0m\u001b[0m\n\u001b[1;32m---> 23\u001b[1;33m         \u001b[0mspectrum_on\u001b[0m \u001b[1;33m=\u001b[0m \u001b[0mnp\u001b[0m\u001b[1;33m.\u001b[0m\u001b[0mnansum\u001b[0m\u001b[1;33m(\u001b[0m\u001b[0mresults\u001b[0m\u001b[1;33m[\u001b[0m\u001b[1;34m\"spectra\"\u001b[0m\u001b[1;33m]\u001b[0m\u001b[1;33m[\u001b[0m\u001b[0mlaseron_mask\u001b[0m\u001b[1;33m]\u001b[0m \u001b[1;33m/\u001b[0m \u001b[0mdf_run\u001b[0m\u001b[1;33m[\u001b[0m\u001b[0mlaseron_mask\u001b[0m\u001b[1;33m]\u001b[0m\u001b[1;33m[\u001b[0m\u001b[1;34m\"I0\"\u001b[0m\u001b[1;33m]\u001b[0m\u001b[1;33m,\u001b[0m \u001b[0maxis\u001b[0m\u001b[1;33m=\u001b[0m\u001b[1;36m0\u001b[0m\u001b[1;33m)\u001b[0m\u001b[1;33m\u001b[0m\u001b[0m\n\u001b[0m\u001b[0;32m     24\u001b[0m         \u001b[0mrixs_map_on\u001b[0m\u001b[1;33m[\u001b[0m\u001b[0menergies_list\u001b[0m\u001b[1;33m.\u001b[0m\u001b[0mindex\u001b[0m\u001b[1;33m(\u001b[0m\u001b[0menergy\u001b[0m\u001b[1;33m)\u001b[0m\u001b[1;33m]\u001b[0m \u001b[1;33m+=\u001b[0m \u001b[0mspectrum_on\u001b[0m\u001b[1;33m\u001b[0m\u001b[0m\n\u001b[0;32m     25\u001b[0m         \u001b[0mspectrum_off\u001b[0m \u001b[1;33m=\u001b[0m \u001b[0mnp\u001b[0m\u001b[1;33m.\u001b[0m\u001b[0mnansum\u001b[0m\u001b[1;33m(\u001b[0m\u001b[0mresults\u001b[0m\u001b[1;33m[\u001b[0m\u001b[1;34m\"spectra\"\u001b[0m\u001b[1;33m]\u001b[0m\u001b[1;33m[\u001b[0m\u001b[1;33m~\u001b[0m\u001b[0mlaseron_mask\u001b[0m\u001b[1;33m]\u001b[0m \u001b[1;33m/\u001b[0m \u001b[0mdf_run\u001b[0m\u001b[1;33m[\u001b[0m\u001b[1;33m~\u001b[0m\u001b[0mlaseron_mask\u001b[0m\u001b[1;33m]\u001b[0m\u001b[1;33m[\u001b[0m\u001b[1;34m\"I0\"\u001b[0m\u001b[1;33m]\u001b[0m\u001b[1;33m,\u001b[0m \u001b[0maxis\u001b[0m\u001b[1;33m=\u001b[0m\u001b[1;36m0\u001b[0m\u001b[1;33m)\u001b[0m\u001b[1;33m\u001b[0m\u001b[0m\n",
      "\u001b[1;32m/swissfel/photonics/sala/anaconda/lib/python2.7/site-packages/pandas/core/frame.pyc\u001b[0m in \u001b[0;36m__getitem__\u001b[1;34m(self, key)\u001b[0m\n\u001b[0;32m   1772\u001b[0m         \u001b[1;32mif\u001b[0m \u001b[0misinstance\u001b[0m\u001b[1;33m(\u001b[0m\u001b[0mkey\u001b[0m\u001b[1;33m,\u001b[0m \u001b[1;33m(\u001b[0m\u001b[0mSeries\u001b[0m\u001b[1;33m,\u001b[0m \u001b[0mnp\u001b[0m\u001b[1;33m.\u001b[0m\u001b[0mndarray\u001b[0m\u001b[1;33m,\u001b[0m \u001b[0mIndex\u001b[0m\u001b[1;33m,\u001b[0m \u001b[0mlist\u001b[0m\u001b[1;33m)\u001b[0m\u001b[1;33m)\u001b[0m\u001b[1;33m:\u001b[0m\u001b[1;33m\u001b[0m\u001b[0m\n\u001b[0;32m   1773\u001b[0m             \u001b[1;31m# either boolean or fancy integer index\u001b[0m\u001b[1;33m\u001b[0m\u001b[1;33m\u001b[0m\u001b[0m\n\u001b[1;32m-> 1774\u001b[1;33m             \u001b[1;32mreturn\u001b[0m \u001b[0mself\u001b[0m\u001b[1;33m.\u001b[0m\u001b[0m_getitem_array\u001b[0m\u001b[1;33m(\u001b[0m\u001b[0mkey\u001b[0m\u001b[1;33m)\u001b[0m\u001b[1;33m\u001b[0m\u001b[0m\n\u001b[0m\u001b[0;32m   1775\u001b[0m         \u001b[1;32melif\u001b[0m \u001b[0misinstance\u001b[0m\u001b[1;33m(\u001b[0m\u001b[0mkey\u001b[0m\u001b[1;33m,\u001b[0m \u001b[0mDataFrame\u001b[0m\u001b[1;33m)\u001b[0m\u001b[1;33m:\u001b[0m\u001b[1;33m\u001b[0m\u001b[0m\n\u001b[0;32m   1776\u001b[0m             \u001b[1;32mreturn\u001b[0m \u001b[0mself\u001b[0m\u001b[1;33m.\u001b[0m\u001b[0m_getitem_frame\u001b[0m\u001b[1;33m(\u001b[0m\u001b[0mkey\u001b[0m\u001b[1;33m)\u001b[0m\u001b[1;33m\u001b[0m\u001b[0m\n",
      "\u001b[1;32m/swissfel/photonics/sala/anaconda/lib/python2.7/site-packages/pandas/core/frame.pyc\u001b[0m in \u001b[0;36m_getitem_array\u001b[1;34m(self, key)\u001b[0m\n\u001b[0;32m   1809\u001b[0m             \u001b[1;32melif\u001b[0m \u001b[0mlen\u001b[0m\u001b[1;33m(\u001b[0m\u001b[0mkey\u001b[0m\u001b[1;33m)\u001b[0m \u001b[1;33m!=\u001b[0m \u001b[0mlen\u001b[0m\u001b[1;33m(\u001b[0m\u001b[0mself\u001b[0m\u001b[1;33m.\u001b[0m\u001b[0mindex\u001b[0m\u001b[1;33m)\u001b[0m\u001b[1;33m:\u001b[0m\u001b[1;33m\u001b[0m\u001b[0m\n\u001b[0;32m   1810\u001b[0m                 raise ValueError('Item wrong length %d instead of %d.' %\n\u001b[1;32m-> 1811\u001b[1;33m                                  (len(key), len(self.index)))\n\u001b[0m\u001b[0;32m   1812\u001b[0m             \u001b[1;31m# _check_bool_indexer will throw exception if Series key cannot\u001b[0m\u001b[1;33m\u001b[0m\u001b[1;33m\u001b[0m\u001b[0m\n\u001b[0;32m   1813\u001b[0m             \u001b[1;31m# be reindexed to match DataFrame rows\u001b[0m\u001b[1;33m\u001b[0m\u001b[1;33m\u001b[0m\u001b[0m\n",
      "\u001b[1;31mValueError\u001b[0m: Item wrong length 5307 instead of 5308."
     ]
    }
   ],
   "source": [
    "#%%time\n",
    "# initialization of the RIXS maps\n",
    "rixs_map_on = np.zeros((len(energies_list), 1024))\n",
    "rixs_map_off = np.zeros((len(energies_list), 1024))\n",
    "\n",
    "for run in runs:\n",
    "    # mono loop\n",
    "    for energy in energies_list:\n",
    "        df_run = df[df.run == run]\n",
    "        energy_mask = df_run[df_run.photon_mono_energy == energy]\n",
    "        fname = DIR + str(run) +\"_roi.h5\"  # the file name\n",
    "        \n",
    "        # if no values, just skip\n",
    "        if len(energy_mask.index.values) == 0:\n",
    "            continue\n",
    "        \n",
    "        # run the analysis\n",
    "        results = an.analyze_images(fname, n=n_events, tags=energy_mask.index.values)\n",
    "        \n",
    "        # create a laser on/off mask, and spectrum\n",
    "        laseron_mask = energy_mask.is_laser.values[:n_events]\n",
    "        print results[\"spectra\"][laseron_mask].shape, laseron_mask.shape, df_run.shape, df_run[\"I0\"][laseron_mask].shape\n",
    "        spectrum_on = np.nansum(results[\"spectra\"][laseron_mask] / df_run[laseron_mask][\"I0\"], axis=0)\n",
    "        rixs_map_on[energies_list.index(energy)] += spectrum_on\n",
    "        spectrum_off = np.nansum(results[\"spectra\"][~laseron_mask] / df_run[~laseron_mask][\"I0\"], axis=0)\n",
    "        rixs_map_off[energies_list.index(energy)] += spectrum_off\n"
   ]
  },
  {
   "cell_type": "markdown",
   "metadata": {},
   "source": [
    "**BONUS:** To save some time, we can try a trivial parallelization on the analysis process, using the `multiprocessing` module. On a busy multicore system, this should take ~2:00 (compared to ~5:00 with the simple loop) minutes with 4 or more parallel jobs. In order to do this, we need to restructure a bit the loop, with the outer loop on energies, and the parallelism applied to the runs (i.e. on the files).\n",
    "\n",
    "One difference w.t.r. of the simple loop is that in this case we are calling `an`, and not `an.analyze_images`: this is because of some technicalities of the `multiprocessing` module regarding pickling and unpickling, which are of no interest here. Just keep in mind that *for an AnalysisProcessor object calling* `an()` *or* `an.analyze_images()` *is the same*."
   ]
  },
  {
   "cell_type": "code",
   "execution_count": null,
   "metadata": {
    "collapsed": false
   },
   "outputs": [],
   "source": [
    "%%time\n",
    "from multiprocessing import Pool\n",
    "from multiprocessing.pool import ApplyResult\n",
    "\n",
    "# initialization of the RIXS maps\n",
    "rixs_map_on = np.zeros((len(energies_list), 1024))\n",
    "rixs_map_off = np.zeros((len(energies_list), 1024))\n",
    "\n",
    "\n",
    "n_events = -1\n",
    "spectrum_on = None\n",
    "spectrum_off = None\n",
    "\n",
    "for i, energy in enumerate(energies_list):\n",
    "    async_results = []  # list for results\n",
    "\n",
    "    energy_masks = []\n",
    "    # creating the pool\n",
    "    pool = Pool(processes=4)\n",
    "    # looping on the runs\n",
    "    for j, run in enumerate(runs):\n",
    "        df_run = df[df.run == run]\n",
    "        energy_masks.append(df_run[df_run.photon_mono_energy == energy])\n",
    "        # apply the analysis \n",
    "        #print energy_masks[-1].index.values\n",
    "        async_results.append(pool.apply_async(an, (fnames[j], n_events, energy_masks[j].index.values)))\n",
    "\n",
    "    # closing the pool\n",
    "    pool.close()\n",
    "    \n",
    "    # waiting for all results\n",
    "    results = [r.get() for r in async_results]\n",
    "    \n",
    "    print \"Got results for energy\", energy\n",
    "    \n",
    "    # producing the laser on/off maps\n",
    "    for j, run in enumerate(runs):\n",
    "        \n",
    "        if not results[j].has_key(\"spectra\"):\n",
    "            continue\n",
    "\n",
    "        energy_mask = energy_masks[j]\n",
    "        laseron_mask = energy_mask.is_laser.values[:n_events]\n",
    "        spectrum_on = np.nansum(results[j][\"spectra\"][laseron_mask], axis=0)\n",
    "        rixs_map_on[energies_list.index(energy)] += spectrum_on\n",
    "        spectrum_off = np.nansum(results[j][\"spectra\"][~laseron_mask], axis=0)\n",
    "        rixs_map_off[energies_list.index(energy)] += spectrum_off"
   ]
  },
  {
   "cell_type": "markdown",
   "metadata": {},
   "source": [
    "As a check, let's plot the last spectra, with and without smoothing:"
   ]
  },
  {
   "cell_type": "code",
   "execution_count": null,
   "metadata": {
    "collapsed": false
   },
   "outputs": [],
   "source": [
    "from scipy.signal import savgol_filter\n",
    "\n",
    "plt.figure()\n",
    "plt.plot(spectrum_on)\n",
    "plt.plot(spectrum_off)\n",
    "plt.plot(spectrum_on - spectrum_off)\n",
    "plt.plot(savgol_filter(spectrum_on - spectrum_off, 11, 3), \"k\", label=\"on - off smoothed\", linewidth=2)\n",
    "plt.show()"
   ]
  },
  {
   "cell_type": "markdown",
   "metadata": {},
   "source": [
    "That's basically it! Now we can plot the unsmoothed RIXS map:"
   ]
  },
  {
   "cell_type": "code",
   "execution_count": null,
   "metadata": {
    "collapsed": false
   },
   "outputs": [],
   "source": [
    "plt.figure()\n",
    "ax = plt.subplot(111)\n",
    "\n",
    "imgplot = ax.imshow(rixs_map_on - rixs_map_off, \n",
    "           origin=\"lower\",\n",
    "           extent=(rixs_map_on.shape[0], rixs_map_on.shape[1], 1000 * energies_list[0], 1000 * energies_list[-1]),\n",
    "           aspect=\"auto\",\n",
    "           #interpolation=\"bilinear\",\n",
    "           cmap=\"bwr\",\n",
    "           vmax=3000, vmin=-3000\n",
    "           )\n",
    "\n",
    "ax.get_yaxis().set_major_formatter( mpl.ticker.FuncFormatter(lambda x, p: format(int(x), ',')))\n",
    "plt.colorbar(imgplot)\n",
    "plt.title(\"RIXS On - Off, delay=5ps\")\n",
    "plt.ylabel(\"Incoming energy (eV)\")\n",
    "plt.show()"
   ]
  },
  {
   "cell_type": "markdown",
   "metadata": {},
   "source": [
    "and its smoothed version:"
   ]
  },
  {
   "cell_type": "code",
   "execution_count": null,
   "metadata": {
    "collapsed": false
   },
   "outputs": [],
   "source": [
    "plt.figure()\n",
    "ax = plt.subplot(111)\n",
    "\n",
    "rixs_map = np.zeros(rixs_map_on.shape)\n",
    "\n",
    "for e in range(rixs_map.shape[0]):\n",
    "    rixs_map[e] = savgol_filter(rixs_map_on[e] - rixs_map_off[e], 11, 3)\n",
    "\n",
    "imgplot = ax.imshow(rixs_map, \n",
    "            origin=\"lower\",\n",
    "           extent=(rixs_map.shape[0], rixs_map.shape[1], 1000 * energies_list[0], 1000 * energies_list[-1]),\n",
    "           aspect=\"auto\",\n",
    "           #interpolation=\"bilinear\",\n",
    "           cmap=\"bwr\",\n",
    "           vmax=3000, vmin=-3000\n",
    "           )\n",
    "\n",
    "ax.get_yaxis().set_major_formatter( mpl.ticker.FuncFormatter(lambda x, p: format(int(x), ',')))\n",
    "plt.colorbar(imgplot)\n",
    "plt.title(\"RIXS On - Off, delay=5ps (smoothed)\")\n",
    "plt.ylabel(\"Incoming energy (eV)\")\n",
    "plt.show()"
   ]
  },
  {
   "cell_type": "markdown",
   "metadata": {},
   "source": [
    "We can also try a 3D version:"
   ]
  },
  {
   "cell_type": "code",
   "execution_count": null,
   "metadata": {
    "collapsed": false
   },
   "outputs": [],
   "source": [
    "from mpl_toolkits.mplot3d import Axes3D\n",
    "\n",
    "fig = plt.figure()\n",
    "ax = fig.gca(projection='3d')\n",
    "X = np.arange(rixs_map.shape[0])\n",
    "Y = np.arange(rixs_map.shape[1])\n",
    "X, Y = np.meshgrid(Y, X)\n",
    "surf = ax.plot_surface(X, Y, rixs_map, rstride=1, cstride=1, \n",
    "        linewidth=0, antialiased=False, cmap=\"seismic\")\n",
    "fig.colorbar(surf, shrink=0.5, aspect=5)\n",
    "\n",
    "plt.show()"
   ]
  }
 ],
 "metadata": {
  "kernelspec": {
   "display_name": "Python 2",
   "language": "python",
   "name": "python2"
  },
  "language_info": {
   "codemirror_mode": {
    "name": "ipython",
    "version": 2
   },
   "file_extension": ".py",
   "mimetype": "text/x-python",
   "name": "python",
   "nbconvert_exporter": "python",
   "pygments_lexer": "ipython2",
   "version": "2.7.9"
  }
 },
 "nbformat": 4,
 "nbformat_minor": 0
}
