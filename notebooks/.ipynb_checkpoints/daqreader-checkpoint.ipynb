{
 "metadata": {
  "name": "",
  "signature": "sha256:49de536270c120fff0d3a4f29bf8dffdf3c7337e04593e6bd506c4a6262f076c"
 },
 "nbformat": 3,
 "nbformat_minor": 0,
 "worksheets": [
  {
   "cells": [
    {
     "cell_type": "code",
     "collapsed": false,
     "input": [
      "# Inputs: \n",
      "# run_number(s) - \n",
      "\n",
      "# Asumptions:\n",
      "# HDF5 file of the run is named <run_number>.h5\n"
     ],
     "language": "python",
     "metadata": {},
     "outputs": []
    },
    {
     "cell_type": "code",
     "collapsed": false,
     "input": [
      "# variables to be read out by 'syncdaq_get' script\n",
      "variables = {\n",
      "    'PD': 'xfel_bl_3_st_3_pd_2_fitting_peak/voltage',\n",
      "    'PD9' : 'xfel_bl_3_st_3_pd_9_fitting_peak/voltage',\n",
      "    'I0' : 'xfel_bl_3_st_3_pd_4_fitting_peak/voltage',\n",
      "    'M27' : 'xfel_bl_3_st3_motor_27/position',\n",
      "    'M28' : 'xfel_bl_3_st3_motor_28/position',\n",
      "    'LaserOn' : 'xfel_bl_lh1_shutter_1_open_valid/status',\n",
      "    'LaserOff' : 'xfel_bl_lh1_shutter_1_close_valid/status',\n",
      "    'Delays' : 'xfel_bl_3_st3_motor_25/position',\n",
      "    'Mono' : 'xfel_bl_3_tc_mono_1_theta/position',\n",
      "    'APD' : 'xfel_bl_3_st_3_pd_14_fitting_peak/voltage',\n",
      "    'LasI' : 'xfel_bl3_st_3_pd_4_peak/voltage', # Extra info laser I\n",
      "    'Xshut' : 'xfel_bl_3_shutter_1_open_valid/status', # X-ray on\n",
      "    'Xstat' : 'xfel_mon_bpm_bl3_0_3_beamstatus/summary', # X-ray status\n",
      "    'X3' : 'xfel_bl_3_st2_bm_1_pd_peak/voltage', # X-ray i 3\n",
      "    'X41' : 'xfel_bl_3_st_3_pd_3_fitting_peak/voltage', # X-ray i 4\n",
      "    'X42' : 'xfel_bl_3_st_3_pd_4_fitting_peak/voltage', # X-ray i 4\n",
      "    'Johann' : 'xfel_bl_3_st3_motor_42/position', # Johann theta\n",
      "    'APD_trans' : 'xfel_bl_3_st3_motor_17/position' # Johann det\n",
      "}"
     ],
     "language": "python",
     "metadata": {},
     "outputs": [],
     "prompt_number": 12
    },
    {
     "cell_type": "code",
     "collapsed": false,
     "input": [
      "variables"
     ],
     "language": "python",
     "metadata": {},
     "outputs": [
      {
       "metadata": {},
       "output_type": "pyout",
       "prompt_number": 13,
       "text": [
        "{'APD': 'xfel_bl_3_st_3_pd_14_fitting_peak/voltage',\n",
        " 'APD_trans': 'xfel_bl_3_st3_motor_17/position',\n",
        " 'Delays': 'xfel_bl_3_st3_motor_25/position',\n",
        " 'I0': 'xfel_bl_3_st_3_pd_4_fitting_peak/voltage',\n",
        " 'Johann': 'xfel_bl_3_st3_motor_42/position',\n",
        " 'LasI': 'xfel_bl3_st_3_pd_4_peak/voltage',\n",
        " 'LaserOff': 'xfel_bl_lh1_shutter_1_close_valid/status',\n",
        " 'LaserOn': 'xfel_bl_lh1_shutter_1_open_valid/status',\n",
        " 'M27': 'xfel_bl_3_st3_motor_27/position',\n",
        " 'M28': 'xfel_bl_3_st3_motor_28/position',\n",
        " 'Mono': 'xfel_bl_3_tc_mono_1_theta/position',\n",
        " 'PD': 'xfel_bl_3_st_3_pd_2_fitting_peak/voltage',\n",
        " 'PD9': 'xfel_bl_3_st_3_pd_9_fitting_peak/voltage',\n",
        " 'X3': 'xfel_bl_3_st2_bm_1_pd_peak/voltage',\n",
        " 'X41': 'xfel_bl_3_st_3_pd_3_fitting_peak/voltage',\n",
        " 'X42': 'xfel_bl_3_st_3_pd_4_fitting_peak/voltage',\n",
        " 'Xshut': 'xfel_bl_3_shutter_1_open_valid/status',\n",
        " 'Xstat': 'xfel_mon_bpm_bl3_0_3_beamstatus/summary'}"
       ]
      }
     ],
     "prompt_number": 13
    },
    {
     "cell_type": "code",
     "collapsed": false,
     "input": [],
     "language": "python",
     "metadata": {},
     "outputs": []
    }
   ],
   "metadata": {}
  }
 ]
}